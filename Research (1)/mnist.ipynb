{
  "cells": [
    {
      "metadata": {
        "trusted": true
      },
      "cell_type": "code",
      "source": "import tensorflow as tf \n(x_train, y_train), (x_test, y_test) = tf.keras.datasets.mnist.load_data()",
      "execution_count": 3,
      "outputs": [
        {
          "output_type": "stream",
          "text": "Downloading data from https://storage.googleapis.com/tensorflow/tf-keras-datasets/mnist.npz\n11493376/11490434 [==============================] - 8s 1us/step\n",
          "name": "stdout"
        }
      ]
    },
    {
      "metadata": {
        "trusted": true
      },
      "cell_type": "code",
      "source": "import matplotlib.pyplot as plt\nimage_index = 50555 # You may select anything up to 60,000\nprint(y_train[image_index]) # The label is 8\nplt.imshow(x_train[image_index], cmap='Greys')\n",
      "execution_count": 4,
      "outputs": [
        {
          "output_type": "stream",
          "text": "8\n",
          "name": "stdout"
        },
        {
          "output_type": "execute_result",
          "execution_count": 4,
          "data": {
            "text/plain": "<matplotlib.image.AxesImage at 0x7f355c0e95f8>"
          },
          "metadata": {}
        },
        {
          "output_type": "display_data",
          "data": {
            "image/png": "[encoded data removed]",
            "text/plain": "<Figure size 432x288 with 1 Axes>"
          },
          "metadata": {
            "needs_background": "light"
          }
        }
      ]
    },
    {
      "metadata": {
        "trusted": true
      },
      "cell_type": "code",
      "source": "x_train.shape\n",
      "execution_count": 5,
      "outputs": [
        {
          "output_type": "execute_result",
          "execution_count": 5,
          "data": {
            "text/plain": "(60000, 28, 28)"
          },
          "metadata": {}
        }
      ]
    },
    {
      "metadata": {
        "trusted": true
      },
      "cell_type": "code",
      "source": "x_train = x_train.reshape(x_train.shape[0], 28, 28, 1)\nx_test = x_test.reshape(x_test.shape[0], 28, 28, 1)\ninput_shape = (28, 28, 1)\n# Making sure that the values are float so that we can get decimal points after division\nx_train = x_train.astype('float32')\nx_test = x_test.astype('float32')\n# Normalizing the RGB codes by dividing it to the max RGB value.\nx_train /= 255\nx_test /= 255\nprint('x_train shape:', x_train.shape)\nprint('Number of images in x_train', x_train.shape[0])\nprint('Number of images in x_test', x_test.shape[0])",
      "execution_count": 6,
      "outputs": [
        {
          "output_type": "stream",
          "text": "x_train shape: (60000, 28, 28, 1)\nNumber of images in x_train 60000\nNumber of images in x_test 10000\n",
          "name": "stdout"
        }
      ]
    },
    {
      "metadata": {
        "trusted": true
      },
      "cell_type": "code",
      "source": "# Importing the required Keras modules containing model and layers\nfrom keras.models import Sequential\nfrom keras.layers import Dense, Conv2D, Dropout, Flatten, MaxPooling2D\n# Creating a Sequential Model and adding the layers\nmodel = Sequential()\nmodel.add(Conv2D(28, kernel_size=(3,3), input_shape=input_shape))\nmodel.add(MaxPooling2D(pool_size=(2, 2)))\nmodel.add(Flatten()) # Flattening the 2D arrays for fully connected layers\nmodel.add(Dense(128,activation=tf.nn.relu))\nmodel.add(Dropout(0.2))\nmodel.add(Dense(10,activation=tf.nn.softmax))",
      "execution_count": 14,
      "outputs": []
    },
    {
      "metadata": {
        "trusted": true
      },
      "cell_type": "code",
      "source": "model.compile(optimizer='adam', \n              loss='sparse_categorical_crossentropy', \n              metrics=['accuracy'])\nmodel.fit(x=x_train,y=y_train, epochs=10)",
      "execution_count": 15,
      "outputs": [
        {
          "output_type": "stream",
          "text": "Epoch 1/10\n60000/60000 [==============================] - 183s 3ms/step - loss: 0.2088 - accuracy: 0.9367\nEpoch 2/10\n60000/60000 [==============================] - 180s 3ms/step - loss: 0.0830 - accuracy: 0.97470s - loss: 0.0830 - accuracy: 0.\nEpoch 3/10\n60000/60000 [==============================] - 182s 3ms/step - loss: 0.0571 - accuracy: 0.98170s - loss: 0.0572 - ac\nEpoch 4/10\n60000/60000 [==============================] - 180s 3ms/step - loss: 0.0436 - accuracy: 0.9857\nEpoch 5/10\n60000/60000 [==============================] - 186s 3ms/step - loss: 0.0332 - accuracy: 0.9894\nEpoch 6/10\n60000/60000 [==============================] - 166s 3ms/step - loss: 0.0306 - accuracy: 0.9897\nEpoch 7/10\n60000/60000 [==============================] - 161s 3ms/step - loss: 0.0250 - accuracy: 0.9919\nEpoch 8/10\n60000/60000 [==============================] - 170s 3ms/step - loss: 0.0211 - accuracy: 0.9929\nEpoch 9/10\n60000/60000 [==============================] - 163s 3ms/step - loss: 0.0193 - accuracy: 0.9933\nEpoch 10/10\n60000/60000 [==============================] - 174s 3ms/step - loss: 0.0193 - accuracy: 0.9937\n",
          "name": "stdout"
        },
        {
          "output_type": "execute_result",
          "execution_count": 15,
          "data": {
            "text/plain": "<keras.callbacks.callbacks.History at 0x7f3559461c88>"
          },
          "metadata": {}
        }
      ]
    },
    {
      "metadata": {
        "trusted": true
      },
      "cell_type": "code",
      "source": "model.evaluate(x_test, y_test)\n",
      "execution_count": 16,
      "outputs": [
        {
          "output_type": "stream",
          "text": "10000/10000 [==============================] - 11s 1ms/step\n",
          "name": "stdout"
        },
        {
          "output_type": "execute_result",
          "execution_count": 16,
          "data": {
            "text/plain": "[0.06232951707619227, 0.9847000241279602]"
          },
          "metadata": {}
        }
      ]
    },
    {
      "metadata": {},
      "cell_type": "markdown",
      "source": "Comparisions between activation functions:\n---------------------------------------------------------------\nSigmoid - 0.04310258559571812, 0.9861999750137329\nRelu    - 0.06232951707619227, 0.9847000241279602\n\n\nfashion_mnist\n\nRelu    - 0.296536854416132, 0.9118000268936157\nsigmoid - 0.2550588166356087, 0.9125999808311462\n\n\n\n"
    }
  ],
  "metadata": {
    "kernelspec": {
      "name": "python36",
      "display_name": "Python 3.6",
      "language": "python"
    },
    "language_info": {
      "mimetype": "text/x-python",
      "nbconvert_exporter": "python",
      "name": "python",
      "pygments_lexer": "ipython3",
      "version": "3.6.6",
      "file_extension": ".py",
      "codemirror_mode": {
        "version": 3,
        "name": "ipython"
      }
    }
  },
  "nbformat": 4,
  "nbformat_minor": 2
}